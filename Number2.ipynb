{
 "cells": [
  {
   "cell_type": "code",
   "execution_count": null,
   "metadata": {},
   "outputs": [],
   "source": [
    "import pandas as pd\n",
    "\n",
    "csv_file_path = '\\Users\\joel\\Desktop\\Binus\\Test\\data'\n",
    "\n",
    "listings_df = pd.read_csv(csv_file_path)\n",
    "\n",
    "numerical_description = listings_df.describe()\n",
    "\n",
    "mode_ptype = listings_df['_ptype'].mode()[0]\n",
    "mode_ltype = listings_df['_ltype'].mode()[0]\n",
    "mode_sold = listings_df['sold'].mode()[0]\n",
    "\n",
    "missing_values = listings_df.isnull().sum()\n",
    "duplicates = listings_df.duplicated().sum()\n",
    "\n",
    "cleaned_listings_df = listings_df.dropna(subset=['price', 'sold'])\n",
    "\n",
    "cleaned_listings_df['bedRooms'].fillna(cleaned_listings_df['bedRooms'].median(), inplace=True)\n",
    "cleaned_listings_df['bathRooms'].fillna(cleaned_listings_df['bathRooms'].median(), inplace=True)\n",
    "cleaned_listings_df['landSize'].fillna(cleaned_listings_df['landSize'].median(), inplace=True)\n",
    "cleaned_listings_df['buildingSize'].fillna(cleaned_listings_df['buildingSize'].median(), inplace=True)\n",
    "cleaned_listings_df['garages'].fillna(cleaned_listings_df['garages'].median(), inplace=True)\n",
    "\n",
    "cleaned_listings_df['_ptype'].fillna(mode_ptype, inplace=True)\n",
    "cleaned_listings_df['_ltype'].fillna(mode_ltype, inplace=True)\n",
    "\n",
    "cleaned_missing_values = cleaned_listings_df.isnull().sum()\n",
    "cleaned_missing_values"
   ]
  }
 ],
 "metadata": {
  "language_info": {
   "name": "python"
  }
 },
 "nbformat": 4,
 "nbformat_minor": 2
}
